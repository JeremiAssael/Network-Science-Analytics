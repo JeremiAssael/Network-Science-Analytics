{
 "cells": [
  {
   "cell_type": "markdown",
   "metadata": {},
   "source": [
    "# NGSA FINAL PROJECT"
   ]
  },
  {
   "cell_type": "markdown",
   "metadata": {},
   "source": [
    "# Recommender Systems with Amazon Co-Purchasing Network"
   ]
  },
  {
   "cell_type": "markdown",
   "metadata": {},
   "source": [
    "In this project, we will work on different strategies to come up with a recommendation algorithm."
   ]
  },
  {
   "cell_type": "markdown",
   "metadata": {},
   "source": [
    "The data comes from the SNAP dataset here:\n",
    "- the graph: https://snap.stanford.edu/data/amazon0302.html\n",
    "- the metadata: https://snap.stanford.edu/data/amazon-meta.html"
   ]
  },
  {
   "cell_type": "code",
   "execution_count": 1,
   "metadata": {
    "collapsed": true
   },
   "outputs": [],
   "source": [
    "import networkx as nx\n",
    "import matplotlib.pyplot as plt\n",
    "from tqdm import tqdm_notebook as tqdm\n",
    "import itertools\n",
    "import math\n",
    "import pandas as pd\n",
    "import numpy as np\n",
    "import time\n",
    "import re\n",
    "from scipy.sparse.linalg import svds\n",
    "import ast"
   ]
  },
  {
   "cell_type": "markdown",
   "metadata": {},
   "source": [
    "## Parser used for the metadata file"
   ]
  },
  {
   "cell_type": "code",
   "execution_count": 2,
   "metadata": {
    "collapsed": true
   },
   "outputs": [],
   "source": [
    "def split_iter(string):\n",
    "    # Splitting on each product, i.e. b\n",
    "    return (x.group(0) for x in re.finditer(r\":([\\w\\W])*?\\nId\", string))"
   ]
  },
  {
   "cell_type": "code",
   "execution_count": 3,
   "metadata": {
    "collapsed": true
   },
   "outputs": [],
   "source": [
    "def parser(items, start=0, num_items=5000, flat=False):\n",
    "    df = pd.DataFrame(columns=['id','asin','discountinued','title','groupe','salesrank','num_similar',\\\n",
    "                               'similar','num_categories','categories','num_reviews','downloaded_reviews',\\\n",
    "                               'avg_rating','dates','customer_ids','ratings','votes','helpfuls'])\n",
    "    if start == 0:\n",
    "        next(items)\n",
    "    i = start\n",
    "    while i < num_items:\n",
    "        try:\n",
    "            item = next(items).split('\\n')\n",
    "            id,asin = item[:2]\n",
    "            id = id.replace(' ', '')\n",
    "            id = int(id[id.index(':')+1:])\n",
    "            asin = asin.replace(' ', '')\n",
    "            asin = asin[asin.index(':')+1:]\n",
    "            if len(item) == 5 :\n",
    "                df.loc[i] = [None for i in range(len(df.columns))] \n",
    "                df.loc[i]['discountinued'] = True\n",
    "                df.loc[i]['id'] = id\n",
    "                df.loc[i]['asin'] = asin\n",
    "            elif len(item) > 5:\n",
    "                    title,groupe,salesrank,similar,num_categories = item[2:7]\n",
    "                    rest = item[7:]\n",
    "                    title = title[title.index(':')+2:]\n",
    "                    groupe = groupe[groupe.index(':')+2:]\n",
    "                    salesrank = int(salesrank[salesrank.index(':')+2:])\n",
    "                    similar = similar[similar.index(':')+2:].split()\n",
    "                    num_similar = int(similar[0])\n",
    "                    similar = similar[1:]\n",
    "                    num_categories = int(num_categories[num_categories.index(':')+2:])\n",
    "                    j = 0\n",
    "                    l = len(rest)\n",
    "                    categories = []\n",
    "                    reviews = []\n",
    "                    while not 'reviews' in rest[j]:\n",
    "                        categories.append(rest[j])\n",
    "                        j+=1\n",
    "                    s = rest[j][rest[j].index(':')+1:]\n",
    "                    num_reviews,downloaded_reviews,avg_rating = [int(x[0]) for x in s.split(': ')[1:]]\n",
    "                    j +=1\n",
    "                    while j < l:\n",
    "                        if rest !='':\n",
    "                            reviews.append(rest[j])\n",
    "                            j+=1\n",
    "                    dates = []\n",
    "                    customer_ids = []\n",
    "                    ratings = []\n",
    "                    votes = []\n",
    "                    helpfuls = []\n",
    "                    for review in reviews:\n",
    "                        if review not in ['','Id'] :\n",
    "                            parsed = [x for x in review.split(': ')]\n",
    "                            date = parsed[0].replace(' ', '')\n",
    "                            dates.append(date[:date.index('cutomer')])\n",
    "                            customer_ids.append(parsed[1][:parsed[1].index('rating')-1])\n",
    "                            ratings.append(int(parsed[2][:parsed[2].index('votes')-1]))\n",
    "                            votes.append(int(parsed[3][:parsed[3].index('helpful')-1]))\n",
    "                            helpfuls.append(int(parsed[4]))\n",
    "                    if flat:\n",
    "                        k = 0 \n",
    "                        while k < len(customer_ids):\n",
    "                            row = [id,asin,False,title,groupe,salesrank,num_similar,similar,num_categories,categories,\\\n",
    "                                  num_reviews,downloaded_reviews,avg_rating, dates[k], customer_ids[k], ratings[k], votes[k], helpfuls[k]]\n",
    "                            df.loc[i] = row\n",
    "                            i+=1\n",
    "                            k+=1\n",
    "                        if k > 0:\n",
    "                            i -= 1\n",
    "                    else:\n",
    "                        row = [id,asin,False,title,groupe,salesrank,num_similar,similar,num_categories,categories,\\\n",
    "                              num_reviews,downloaded_reviews,avg_rating, dates, customer_ids, ratings, votes, helpfuls]\n",
    "                        df.loc[i] = row\n",
    "                        \n",
    "        except Exception as e:\n",
    "#             print(e)\n",
    "#             print(row)\n",
    "            pass\n",
    "        i+= 1\n",
    "    return df"
   ]
  },
  {
   "cell_type": "code",
   "execution_count": 4,
   "metadata": {
    "collapsed": true
   },
   "outputs": [],
   "source": [
    "text = open('amazon-meta.txt', 'r', encoding='utf-8').read()\n",
    "splited_text = split_iter(text)"
   ]
  },
  {
   "cell_type": "code",
   "execution_count": 5,
   "metadata": {
    "collapsed": true
   },
   "outputs": [],
   "source": [
    "t = time.time()\n",
    "df = pd.DataFrame(columns=['id','asin','discountinued','title','groupe','salesrank','num_similar',\\\n",
    "                               'similar','num_categories','categories','num_reviews','downloaded_reviews',\\\n",
    "                               'avg_rating','dates','customer_ids','ratings','votes','helpfuls'])"
   ]
  },
  {
   "cell_type": "code",
   "execution_count": 6,
   "metadata": {},
   "outputs": [
    {
     "name": "stdout",
     "output_type": "stream",
     "text": [
      "200 \n",
      "38.90200996398926 seconds\n",
      "201 \n",
      "68.14594626426697 seconds\n",
      "202 \n",
      "102.21070861816406 seconds\n",
      "203 \n",
      "132.3843960762024 seconds\n",
      "204 \n",
      "163.0677454471588 seconds\n",
      "205 \n",
      "192.46062874794006 seconds\n",
      "206 \n",
      "220.9755699634552 seconds\n",
      "207 \n",
      "250.34652280807495 seconds\n",
      "208 \n",
      "284.24534940719604 seconds\n",
      "209 \n",
      "315.96930837631226 seconds\n",
      "210 \n",
      "344.9823360443115 seconds\n",
      "211 \n",
      "374.73209500312805 seconds\n",
      "212 \n",
      "402.9237070083618 seconds\n",
      "213 \n",
      "459.69786310195923 seconds\n",
      "214 \n",
      "488.4029629230499 seconds\n",
      "215 \n",
      "515.4677684307098 seconds\n",
      "216 \n",
      "543.0407598018646 seconds\n",
      "217 \n",
      "585.9855325222015 seconds\n",
      "218 \n",
      "614.1164758205414 seconds\n",
      "219 \n",
      "643.6593630313873 seconds\n",
      "220 \n",
      "673.4081270694733 seconds\n",
      "221 \n",
      "703.3972256183624 seconds\n",
      "222 \n",
      "733.9870285987854 seconds\n",
      "223 \n",
      "761.5416214466095 seconds\n",
      "224 \n",
      "789.6919162273407 seconds\n",
      "225 \n",
      "817.6048929691315 seconds\n",
      "226 \n",
      "846.9475238323212 seconds\n",
      "227 \n",
      "875.6604912281036 seconds\n",
      "228 \n",
      "905.975747346878 seconds\n",
      "229 \n",
      "934.3365490436554 seconds\n",
      "230 \n",
      "966.8713929653168 seconds\n",
      "231 \n",
      "997.378336429596 seconds\n",
      "232 \n",
      "1025.1572184562683 seconds\n",
      "233 \n",
      "1053.0713374614716 seconds\n",
      "234 \n",
      "1081.6701202392578 seconds\n",
      "235 \n",
      "1110.7197420597076 seconds\n",
      "236 \n",
      "1140.9145402908325 seconds\n",
      "237 \n",
      "1167.9230253696442 seconds\n",
      "238 \n",
      "1198.4257507324219 seconds\n",
      "239 \n",
      "1227.0466582775116 seconds\n"
     ]
    }
   ],
   "source": [
    "for i in range(200,240):\n",
    "    print('{} '.format(i))\n",
    "    df_parsed = parser(splited_text, flat=True, start = i*5000, num_items=(i+1)*5000)\n",
    "    df = pd.concat([df, df_parsed], axis=0)\n",
    "    print('{} seconds'.format(time.time()-t))"
   ]
  },
  {
   "cell_type": "markdown",
   "metadata": {},
   "source": [
    "## Write the dataframe to the csv"
   ]
  },
  {
   "cell_type": "code",
   "execution_count": 7,
   "metadata": {
    "collapsed": true
   },
   "outputs": [],
   "source": [
    "df.to_csv('amazon-meta_.csv')"
   ]
  },
  {
   "cell_type": "markdown",
   "metadata": {},
   "source": [
    "## Recommendation using communities and motifs"
   ]
  },
  {
   "cell_type": "markdown",
   "metadata": {},
   "source": [
    "#### Reading which products we will work on"
   ]
  },
  {
   "cell_type": "code",
   "execution_count": 8,
   "metadata": {},
   "outputs": [
    {
     "name": "stdout",
     "output_type": "stream",
     "text": [
      "8090\n",
      "8090\n"
     ]
    }
   ],
   "source": [
    "with open('ids_last.txt', 'r') as file:\n",
    "        important_nodes = file.read()\n",
    "    \n",
    "# Let's put the node we will work on in a dictionnary with the value 1\n",
    "important_nodes_dict = {}\n",
    "\n",
    "for node in important_nodes.split(' '):\n",
    "    important_nodes_dict[node[:-1]] = 1\n",
    "    \n",
    "print(len(important_nodes.split(' ')))\n",
    "print(len(important_nodes_dict.keys()))"
   ]
  },
  {
   "cell_type": "markdown",
   "metadata": {},
   "source": [
    "#### Creating the graph"
   ]
  },
  {
   "cell_type": "code",
   "execution_count": 9,
   "metadata": {
    "collapsed": true
   },
   "outputs": [],
   "source": [
    "with open('Amazon0302.txt', 'r') as f:\n",
    "    data = f.read()\n",
    "data = data.split('\\n')\n",
    "\n",
    "# Creation of the Digraph using the data\n",
    "\n",
    "G = nx.DiGraph()\n",
    "\n",
    "for row in range(4, len(data)-1):\n",
    "    dataaa = data[row].split('\\t')\n",
    "    node_1 = dataaa[0]\n",
    "    node_2 = dataaa[1]\n",
    "    \n",
    "    # If both nodes are in the dictionnary, it means that we will work with the edge and\n",
    "    # we add it to the graph\n",
    "    nodes_to_add = 0\n",
    "    nodes_to_add += important_nodes_dict.get(node_1, 0)\n",
    "    nodes_to_add += important_nodes_dict.get(node_2, 0)\n",
    "    \n",
    "    if nodes_to_add == 2:\n",
    "        G.add_edge(node_1, node_2)\n",
    "\n",
    "# nx.draw(G)\n",
    "# plt.show()        "
   ]
  },
  {
   "cell_type": "markdown",
   "metadata": {},
   "source": [
    "#### Detecting Motif 1"
   ]
  },
  {
   "cell_type": "code",
   "execution_count": 10,
   "metadata": {},
   "outputs": [
    {
     "name": "stdout",
     "output_type": "stream",
     "text": [
      "5397\n"
     ]
    },
    {
     "data": {
      "application/vnd.jupyter.widget-view+json": {
       "model_id": "626fdc48dc694511ae3816e829ad9369",
       "version_major": 2,
       "version_minor": 0
      },
      "text/plain": [
       "A Jupyter Widget"
      ]
     },
     "metadata": {},
     "output_type": "display_data"
    },
    {
     "name": "stdout",
     "output_type": "stream",
     "text": [
      "\n",
      "3441.0\n"
     ]
    }
   ],
   "source": [
    "motif_1_nodes = []\n",
    "motif_1_edges = []\n",
    "\n",
    "print(len(G.edges))\n",
    "\n",
    "# Detection of the Motif 1 in the Directed graph\n",
    "for edge_1 in tqdm(G.edges):\n",
    "    node_1 = edge_1[0]\n",
    "    node_2 = edge_1[1]\n",
    "    for edge_2 in G.edges:\n",
    "        if edge_2[0] == node_1 and edge_2[1] != node_2:\n",
    "            motif_1_nodes.append([node_1, node_2, edge_2[1]])\n",
    "            motif_1_edges.append([edge_1, edge_2])\n",
    "        if edge_2[1] == node_1 and edge_2[0] != node_2:\n",
    "            motif_1_nodes.append([node_1, node_2, edge_2[0]])\n",
    "            motif_1_edges.append([edge_1, edge_2])\n",
    "            \n",
    "print(len(motif_1_nodes)/2)"
   ]
  },
  {
   "cell_type": "markdown",
   "metadata": {},
   "source": [
    "#### Detecting Motif 3"
   ]
  },
  {
   "cell_type": "code",
   "execution_count": 11,
   "metadata": {},
   "outputs": [
    {
     "data": {
      "application/vnd.jupyter.widget-view+json": {
       "model_id": "f3a99579e4c747c8b8d770cf2dca4756",
       "version_major": 2,
       "version_minor": 0
      },
      "text/plain": [
       "A Jupyter Widget"
      ]
     },
     "metadata": {},
     "output_type": "display_data"
    },
    {
     "name": "stdout",
     "output_type": "stream",
     "text": [
      "\n",
      "Examples of Nodes forming a Motif-3\n",
      "[['16', '19', '73'], ['16', '73', '19'], ['19', '16', '73'], ['19', '73', '16'], ['73', '16', '19'], ['73', '19', '16'], ['291', '82', '678'], ['117', '97', '131'], ['117', '131', '97'], ['162', '616', '53']]\n"
     ]
    },
    {
     "data": {
      "image/png": "[encoded data removed]",
      "text/plain": [
       "<Figure size 432x288 with 1 Axes>"
      ]
     },
     "metadata": {},
     "output_type": "display_data"
    },
    {
     "data": {
      "image/png": "[encoded data removed]",
      "text/plain": [
       "<Figure size 432x288 with 1 Axes>"
      ]
     },
     "metadata": {},
     "output_type": "display_data"
    }
   ],
   "source": [
    "motif_3_nodes = []\n",
    "motif_3_edges = []\n",
    "\n",
    "# Detection of the Motif 3 in the Directed graph\n",
    "for edge_1 in tqdm(G.edges()):\n",
    "    node_1 = edge_1[0]\n",
    "    node_2 = edge_1[1]\n",
    "    for edge_2 in G.edges():\n",
    "        if edge_2[0] == node_2 and edge_2[1] == node_1:\n",
    "            for edge_3 in G.edges():\n",
    "                if edge_3[0] == node_1 and edge_3[1] != node_2:\n",
    "                    motif_3_nodes.append([node_1, node_2, edge_3[1]])\n",
    "                    motif_3_edges.append([edge_1, edge_2, edge_3])\n",
    "                        \n",
    "\n",
    "print('Examples of Nodes forming a Motif-3')\n",
    "print(motif_3_nodes[:10])\n",
    "# Let's Display an example of the Motif 3\n",
    "H = G.subgraph(motif_3_nodes[0])\n",
    "nx.draw(H)\n",
    "plt.show()\n",
    "\n",
    "\n",
    "# print(motif_3_edges[0])\n",
    "W = nx.DiGraph()\n",
    "                                                                                            \n",
    "W.add_edge(motif_3_edges[0][0][0], motif_3_edges[0][0][1])\n",
    "W.add_edge(motif_3_edges[0][1][0], motif_3_edges[0][1][1])\n",
    "W.add_edge(motif_3_edges[0][2][0], motif_3_edges[0][2][1])\n",
    "\n",
    "nx.draw(W)  \n",
    "plt.show()"
   ]
  },
  {
   "cell_type": "markdown",
   "metadata": {},
   "source": [
    "#### Detecting Motif 4"
   ]
  },
  {
   "cell_type": "code",
   "execution_count": 12,
   "metadata": {},
   "outputs": [
    {
     "data": {
      "application/vnd.jupyter.widget-view+json": {
       "model_id": "119ac97e6d324328b747156bc2f626d1",
       "version_major": 2,
       "version_minor": 0
      },
      "text/plain": [
       "A Jupyter Widget"
      ]
     },
     "metadata": {},
     "output_type": "display_data"
    },
    {
     "name": "stdout",
     "output_type": "stream",
     "text": [
      "\n",
      "11310\n"
     ]
    }
   ],
   "source": [
    "motif_4_nodes = []\n",
    "motif_4_edges = []\n",
    "\n",
    "# Detection of the Motif 4 in the Directed Graph\n",
    "for edge_1 in tqdm(G.edges):\n",
    "    node_1 = edge_1[0]\n",
    "    node_2 = edge_1[1]\n",
    "    for edge_2 in G.edges:\n",
    "        if edge_2[0] == node_2 and edge_2[1] != node_1:\n",
    "            motif_4_nodes.append([node_1, node_2, edge_2[1]])\n",
    "            motif_4_edges.append([edge_1, edge_2])\n",
    "        if edge_2[1] == node_2 and edge_2[0] != node_1:\n",
    "            motif_4_nodes.append([node_1, node_2, edge_2[0]])\n",
    "            motif_4_edges.append([edge_1, edge_2])\n",
    "\n",
    "print(len(motif_4_edges))"
   ]
  },
  {
   "cell_type": "markdown",
   "metadata": {},
   "source": [
    "#### Detecting Motif 10"
   ]
  },
  {
   "cell_type": "code",
   "execution_count": 13,
   "metadata": {},
   "outputs": [
    {
     "data": {
      "application/vnd.jupyter.widget-view+json": {
       "model_id": "de83a650598a42d495c426306d504aaa",
       "version_major": 2,
       "version_minor": 0
      },
      "text/plain": [
       "A Jupyter Widget"
      ]
     },
     "metadata": {},
     "output_type": "display_data"
    },
    {
     "name": "stdout",
     "output_type": "stream",
     "text": [
      "\n",
      "0\n"
     ]
    }
   ],
   "source": [
    "motif_10_nodes = []\n",
    "motif_10_edges = []\n",
    "\n",
    "# Detection of the Motif 10 in the Directed Graph\n",
    "for edge_1 in tqdm(G.edges):\n",
    "    node_1 = edge_1[0]\n",
    "    node_2 = edge_2[1]\n",
    "    \n",
    "    for edge_2 in G.edges:\n",
    "        if edge_2[0] == node_2 and edge_2[1] == node_1:\n",
    "            \n",
    "            for edge_3 in G.edges:\n",
    "                if edge_3[1] == node_1 and edge_3[0] != node_2:\n",
    "                    \n",
    "                    motif_10_nodes.append([node_1, node_2, edge_3[0]])\n",
    "                    motif_10_edges.append([edgs_1, edge_2, edge_3])\n",
    "\n",
    "print(len(motif_10_nodes))"
   ]
  },
  {
   "cell_type": "markdown",
   "metadata": {},
   "source": [
    "#### Building unDirected Graph in order to detect overlapping communities"
   ]
  },
  {
   "cell_type": "code",
   "execution_count": 14,
   "metadata": {},
   "outputs": [
    {
     "name": "stdout",
     "output_type": "stream",
     "text": [
      "4871\n"
     ]
    }
   ],
   "source": [
    "from networkx.algorithms.community import greedy_modularity_communities\n",
    "\n",
    "with open('Amazon0302.txt', 'r') as f:\n",
    "    data = f.read()\n",
    "data = data.split('\\n')\n",
    "\n",
    "# Creation of the Graph (not directed) to work with the communities algorithms\n",
    "G_u = nx.Graph()\n",
    "\n",
    "for row in range(4, len(data)-1):\n",
    "    dataaa = data[row].split('\\t')\n",
    "    node_1 = dataaa[0]\n",
    "    node_2 = dataaa[1]\n",
    "    \n",
    "    nodes_to_add = 0\n",
    "    nodes_to_add += important_nodes_dict.get(node_1, 0)\n",
    "    nodes_to_add += important_nodes_dict.get(node_2, 0)\n",
    "    \n",
    "    if nodes_to_add == 2:\n",
    "        G_u.add_edge(node_1, node_2)\n",
    "\n",
    "print(len(G_u.nodes))\n",
    "c = list(greedy_modularity_communities(G_u))"
   ]
  },
  {
   "cell_type": "markdown",
   "metadata": {},
   "source": [
    "#### Overlapping Communities Algorithm"
   ]
  },
  {
   "cell_type": "code",
   "execution_count": 15,
   "metadata": {
    "collapsed": true
   },
   "outputs": [],
   "source": [
    "from itertools import combinations\n",
    "\n",
    "\n",
    "# Use of the Clique Percolation Algorithm in order to work on overlapping communities\n",
    "def get_percolated_cliques(G, k):\n",
    "    # G is the graph to work on, k the maximum distance\n",
    "    perc_graph = nx.Graph()\n",
    "    cliques = list(frozenset(c) for c in nx.find_cliques(G) if len(c) >= k)\n",
    "    perc_graph.add_nodes_from(cliques)\n",
    "\n",
    "    # Add an edge in the clique graph for each pair of cliques that percolate\n",
    "    for c1, c2 in combinations(cliques, 2):\n",
    "        if len(c1.intersection(c2)) >= (k - 1):\n",
    "            perc_graph.add_edge(c1, c2)\n",
    "\n",
    "    for component in nx.connected_components(perc_graph):\n",
    "        yield(frozenset.union(*component))"
   ]
  },
  {
   "cell_type": "code",
   "execution_count": 16,
   "metadata": {},
   "outputs": [
    {
     "name": "stdout",
     "output_type": "stream",
     "text": [
      "frozenset({'9230', '5373', '9228'})\n",
      "frozenset({'29066', '32944', '27981'})\n",
      "frozenset({'53', '21610', '55'})\n",
      "frozenset({'40396', '40397', '40395'})\n",
      "frozenset({'55756', '21792', '25530', '21795'})\n",
      "frozenset({'46459', '40563', '40560'})\n",
      "frozenset({'29832', '19113', '19114'})\n",
      "frozenset({'16708', '21451', '23341', '19325'})\n",
      "frozenset({'4788', '7755', '11771'})\n",
      "frozenset({'42950', '32050', '42952'})\n",
      "frozenset({'17962', '1044', '3119', '1895', '7222', '975', '2060', '4835', '1813'})\n",
      "frozenset({'44976', '23007', '38067', '38066'})\n",
      "frozenset({'19062', '35541', '18855'})\n",
      "frozenset({'34407', '33936', '40037'})\n",
      "frozenset({'9322', '9323', '6498'})\n",
      "frozenset({'12864', '18765', '12861', '12862'})\n",
      "frozenset({'4736', '8650', '8648', '12398'})\n",
      "frozenset({'17090', '19874', '20235'})\n",
      "frozenset({'9669', '18558', '24061', '32864', '22080', '9668'})\n",
      "frozenset({'27725', '27727', '8013', '27728'})\n",
      "frozenset({'21389', '16840', '16841'})\n",
      "frozenset({'53404', '30481', '30479', '30478', '18626'})\n",
      "frozenset({'44588', '8369', '37343'})\n",
      "frozenset({'20030', '3145', '1797', '2050', '2051', '36044', '5063'})\n",
      "frozenset({'16565', '7107', '7109', '7108', '3227', '16567'})\n",
      "frozenset({'1527', '677', '280'})\n",
      "frozenset({'17579', '47252', '47253'})\n",
      "frozenset({'38922', '45905', '29588'})\n",
      "frozenset({'13348', '13497', '13496'})\n",
      "frozenset({'19120', '19123', '27998'})\n",
      "frozenset({'3654', '16496', '29796', '41258', '16793', '16497'})\n",
      "frozenset({'19172', '32078', '11961', '18313'})\n",
      "frozenset({'50005', '50007', '41443', '50006'})\n",
      "frozenset({'13981', '38545', '18645'})\n",
      "frozenset({'7721', '11303', '19392'})\n",
      "frozenset({'22904', '22901', '21090'})\n",
      "frozenset({'4934', '29820', '22904', '4930', '3589'})\n",
      "frozenset({'45068', '44881', '38858', '44882', '52612'})\n",
      "frozenset({'14304', '9009', '9008'})\n",
      "frozenset({'50504', '51634', '38516'})\n",
      "frozenset({'5445', '5448', '20315', '19175', '12078', '2530'})\n",
      "frozenset({'16749', '19565', '16751'})\n",
      "frozenset({'17653', '34829', '34828'})\n",
      "frozenset({'9207', '9209', '5186'})\n",
      "frozenset({'2318', '2182', '2181'})\n",
      "frozenset({'54327', '54328', '46445'})\n",
      "frozenset({'1474', '2847', '5920', '1159', '2848'})\n",
      "frozenset({'4147', '4146', '2368'})\n",
      "frozenset({'23958', '42605', '42606', '37066'})\n",
      "frozenset({'23074', '26463', '20085'})\n",
      "frozenset({'1774', '27398', '1696'})\n",
      "frozenset({'4194', '17138', '6714'})\n",
      "frozenset({'4784', '5141', '4785'})\n",
      "frozenset({'50020', '37542', '9175'})\n",
      "frozenset({'5336', '2040', '2039', '932', '793', '797'})\n",
      "frozenset({'32719', '37596', '35204'})\n",
      "frozenset({'36859', '42596', '36862'})\n",
      "frozenset({'35163', '18586', '21934', '28411', '18589', '2051'})\n",
      "frozenset({'165', '617', '818', '1316', '9737', '167'})\n",
      "frozenset({'21222', '6440', '27932', '3673', '8812', '19183'})\n",
      "frozenset({'8581', '12223', '19749'})\n",
      "frozenset({'25815', '13167', '25814'})\n",
      "frozenset({'1648', '426', '1647'})\n",
      "frozenset({'11125', '15343', '10349'})\n",
      "frozenset({'39527', '39528', '32886'})\n",
      "frozenset({'2298', '2230', '2133'})\n",
      "frozenset({'12800', '8245', '12801', '19362'})\n",
      "frozenset({'47324', '47325', '47322'})\n",
      "frozenset({'45045', '44010', '36415'})\n",
      "frozenset({'2986', '19155', '3739'})\n",
      "frozenset({'17874', '12044', '15700'})\n",
      "frozenset({'19244', '19248', '30414', '51129'})\n",
      "frozenset({'15187', '22629', '16582'})\n",
      "frozenset({'47743', '8107', '20086'})\n",
      "frozenset({'40489', '40488', '29896'})\n",
      "frozenset({'13717', '13718', '15795'})\n",
      "frozenset({'3063', '4456', '50783', '4338', '4482'})\n",
      "frozenset({'47118', '22832', '40780', '40368'})\n",
      "frozenset({'37638', '37637', '35921', '41466', '38000'})\n",
      "frozenset({'6126', '15392', '6129', '25182'})\n",
      "frozenset({'13313', '930', '14508'})\n",
      "frozenset({'46026', '42608', '46025'})\n",
      "frozenset({'8857', '28589', '8854', '6960'})\n",
      "frozenset({'35411', '35412', '28239', '35413'})\n",
      "frozenset({'7439', '8109', '13596', '279'})\n",
      "frozenset({'37481', '35178', '35176', '23170', '23171'})\n",
      "frozenset({'16545', '23981', '30617'})\n",
      "frozenset({'1154', '1468', '42500', '2452', '481', '337'})\n",
      "frozenset({'37881', '31939', '37883', '37882'})\n",
      "frozenset({'41024', '41022', '36561'})\n",
      "frozenset({'8179', '3508', '4551'})\n",
      "frozenset({'45782', '45783', '45781'})\n",
      "frozenset({'37839', '28906', '43152'})\n",
      "frozenset({'47076', '47077', '47110'})\n",
      "frozenset({'17367', '19581', '19580', '30173'})\n",
      "frozenset({'55774', '22298', '47413'})\n",
      "frozenset({'5593', '5591', '22996', '3698', '12808'})\n",
      "frozenset({'44607', '44606', '53556'})\n",
      "frozenset({'37481', '41048', '41047'})\n",
      "frozenset({'34700', '34701', '45309'})\n",
      "frozenset({'15619', '10139', '15618'})\n",
      "frozenset({'38927', '39355', '38929'})\n",
      "frozenset({'53', '53696', '53697'})\n",
      "frozenset({'7493', '53', '616', '162'})\n",
      "frozenset({'44663', '30074', '30073'})\n",
      "frozenset({'37405', '36095', '37406', '37403'})\n",
      "frozenset({'5875', '9851', '35504', '17183'})\n",
      "frozenset({'51565', '31075', '51563'})\n",
      "frozenset({'13017', '8925', '22838', '18336', '22839', '50846', '33860'})\n",
      "frozenset({'10795', '17769', '22136', '20968', '17770', '20967', '17768', '17767'})\n",
      "frozenset({'29467', '29466', '29468'})\n",
      "frozenset({'17178', '18451', '17179', '17177'})\n",
      "frozenset({'6325', '46681', '6323'})\n",
      "frozenset({'43191', '45018', '43194', '45015'})\n",
      "frozenset({'10130', '12926', '8004', '16035', '8003', '10131'})\n",
      "frozenset({'49334', '45890', '49335'})\n",
      "frozenset({'40743', '42069', '27708'})\n",
      "frozenset({'3191', '2211', '2207'})\n",
      "frozenset({'8481', '8483', '9586'})\n",
      "frozenset({'15542', '20713', '18963'})\n",
      "frozenset({'2330', '31980', '2560'})\n",
      "frozenset({'39499', '44922', '45070'})\n",
      "frozenset({'6325', '6320', '6318'})\n",
      "frozenset({'40714', '39812', '40715'})\n",
      "frozenset({'34343', '27462', '13459'})\n",
      "frozenset({'33516', '26382', '26384'})\n",
      "frozenset({'27390', '53379', '12580', '53378'})\n",
      "frozenset({'27414', '13836', '37901'})\n",
      "frozenset({'930', '1090', '1373', '931', '2117'})\n",
      "frozenset({'27685', '41517', '41518', '797'})\n",
      "frozenset({'47693', '53583', '45359'})\n",
      "frozenset({'34314', '38966', '38967'})\n",
      "frozenset({'4824', '6794', '6793'})\n",
      "frozenset({'20730', '22214', '36109'})\n",
      "frozenset({'31780', '31778', '49431'})\n",
      "frozenset({'12733', '12734', '18128', '12735'})\n",
      "frozenset({'45963', '51714', '46983'})\n",
      "frozenset({'36340', '37408', '41359'})\n",
      "frozenset({'8992', '2847', '44646'})\n",
      "frozenset({'15981', '13812', '11897', '26335', '15980'})\n",
      "frozenset({'9991', '10547', '6183', '4164'})\n",
      "frozenset({'26263', '26262', '13159'})\n",
      "frozenset({'1729', '1730', '752'})\n",
      "frozenset({'46021', '42406', '46022'})\n",
      "frozenset({'10410', '15636', '15635'})\n",
      "frozenset({'55341', '54256', '40205', '1452'})\n",
      "frozenset({'20628', '16232', '16229', '5243'})\n",
      "frozenset({'3541', '3540', '6103'})\n",
      "frozenset({'20141', '37075', '15259', '15260', '16134'})\n",
      "frozenset({'51007', '46627', '46624'})\n",
      "frozenset({'32166', '35719', '32168'})\n",
      "frozenset({'6495', '6494', '1890'})\n",
      "frozenset({'4270', '5093', '5094'})\n",
      "frozenset({'54080', '18555', '2772', '18557'})\n",
      "frozenset({'1231', '3219', '2740', '2969', '533'})\n",
      "frozenset({'8183', '10635', '25764'})\n",
      "frozenset({'27869', '42487', '55817'})\n",
      "frozenset({'48522', '48523', '46267'})\n",
      "frozenset({'42105', '47126', '47125'})\n",
      "frozenset({'45755', '45756', '13306'})\n",
      "frozenset({'14618', '8583', '14617'})\n",
      "frozenset({'16126', '18904', '16125'})\n",
      "frozenset({'5973', '16243', '1223'})\n",
      "frozenset({'27896', '31989', '27895'})\n",
      "frozenset({'24451', '17052', '24454'})\n",
      "frozenset({'29754', '11568', '27429'})\n",
      "frozenset({'15183', '14140', '15182', '14137'})\n",
      "frozenset({'33347', '19244', '34902'})\n",
      "frozenset({'4010', '5055', '899', '36985'})\n",
      "frozenset({'331', '6412', '45446'})\n",
      "frozenset({'26207', '44571', '26206'})\n",
      "frozenset({'36916', '22577', '22578'})\n",
      "frozenset({'13986', '31845', '49742', '52332'})\n",
      "frozenset({'50430', '50428', '33108'})\n",
      "frozenset({'19303', '19300', '19302'})\n",
      "frozenset({'35819', '13462', '19479'})\n",
      "frozenset({'5667', '3403', '9833'})\n",
      "frozenset({'7614', '8136', '7612'})\n",
      "frozenset({'33923', '27635', '27633', '27636'})\n",
      "frozenset({'43144', '43145', '43146'})\n",
      "frozenset({'27466', '40131', '27467'})\n",
      "frozenset({'12012', '23606', '15382', '15383'})\n",
      "frozenset({'36596', '33573', '33575', '36597'})\n",
      "frozenset({'26182', '8381', '28043'})\n",
      "frozenset({'36197', '55264', '26611', '34968'})\n",
      "frozenset({'6902', '8861', '7027'})\n",
      "frozenset({'39066', '39065', '21752'})\n",
      "frozenset({'19470', '19965', '13355'})\n",
      "frozenset({'15471', '13615', '14144', '15473', '15472'})\n",
      "frozenset({'20646', '16971', '20645', '16972', '16974'})\n",
      "frozenset({'1587', '1589', '1586'})\n",
      "frozenset({'1090', '1063', '1019'})\n",
      "frozenset({'35623', '35625', '35621', '25571'})\n",
      "frozenset({'6627', '13521', '3190'})\n",
      "frozenset({'46873', '46874', '46872'})\n",
      "frozenset({'15021', '11307', '15025'})\n",
      "frozenset({'1325', '768', '7787'})\n",
      "frozenset({'48252', '49891', '48253'})\n",
      "frozenset({'21449', '36086', '21447'})\n",
      "frozenset({'13615', '22334', '22333'})\n",
      "frozenset({'44688', '13517', '25819'})\n",
      "frozenset({'44609', '52818', '52819'})\n",
      "frozenset({'25527', '25528', '26518'})\n",
      "frozenset({'47635', '41277', '47634'})\n",
      "frozenset({'8824', '8827', '11830'})\n",
      "frozenset({'3904', '1592', '7913', '1495', '1590'})\n",
      "frozenset({'44093', '44360', '38444', '44092'})\n",
      "frozenset({'24406', '6426', '29174'})\n",
      "frozenset({'25701', '5555', '3529'})\n",
      "frozenset({'48155', '48157', '38902'})\n",
      "frozenset({'20644', '16807', '35571'})\n",
      "frozenset({'27304', '39921', '39923'})\n",
      "frozenset({'898', '899', '724'})\n",
      "frozenset({'7759', '5580', '13250'})\n",
      "frozenset({'22359', '16613', '8723'})\n",
      "frozenset({'26203', '26204', '38476'})\n",
      "frozenset({'45789', '33795', '33796'})\n",
      "frozenset({'12099', '14681', '12096', '12100', '35878'})\n",
      "frozenset({'23394', '5992', '22938'})\n",
      "frozenset({'43035', '42399', '42400'})\n",
      "frozenset({'28161', '28160', '11634'})\n",
      "frozenset({'4014', '6161', '445'})\n",
      "frozenset({'963', '3115', '860'})\n",
      "frozenset({'6489', '1862', '2336'})\n",
      "frozenset({'31447', '21331', '30976'})\n",
      "frozenset({'16345', '24973', '10552'})\n",
      "frozenset({'39746', '47491', '5502'})\n",
      "frozenset({'11329', '20022', '9673', '11726'})\n",
      "frozenset({'14944', '4930', '27507'})\n",
      "frozenset({'16430', '32016', '30062'})\n",
      "frozenset({'22433', '19192', '3313'})\n",
      "frozenset({'2384', '701', '1544', '1614', '1301', '899'})\n",
      "frozenset({'10244', '9034', '9941'})\n",
      "frozenset({'7271', '5753', '4584'})\n",
      "frozenset({'29580', '23609', '23608', '15450'})\n",
      "frozenset({'2328', '919', '16196'})\n",
      "frozenset({'11397', '19800', '4104', '94'})\n",
      "frozenset({'9997', '25757', '7276'})\n",
      "frozenset({'11358', '13770', '17496'})\n",
      "frozenset({'27329', '8085', '38505'})\n",
      "frozenset({'10404', '12528', '30829', '10406'})\n",
      "frozenset({'15461', '12601', '12603'})\n",
      "frozenset({'10896', '10897', '10898', '22423'})\n",
      "frozenset({'73', '16', '19'})\n",
      "frozenset({'21162', '37479', '35573'})\n",
      "frozenset({'50983', '43665', '42509'})\n",
      "frozenset({'16013', '12546', '16012', '16011'})\n",
      "frozenset({'1144', '24333', '24332'})\n",
      "frozenset({'9477', '9475', '7897'})\n",
      "frozenset({'44037', '24313', '42782', '44067'})\n",
      "frozenset({'49973', '28603', '40471'})\n",
      "frozenset({'9096', '8377', '9098'})\n",
      "frozenset({'18384', '19623', '18382'})\n",
      "frozenset({'44623', '44625', '44624'})\n",
      "frozenset({'51516', '51514', '52671'})\n",
      "frozenset({'9176', '14316', '14581'})\n",
      "frozenset({'44159', '44161', '28394'})\n",
      "frozenset({'7570', '44138', '44137'})\n",
      "frozenset({'45406', '45407', '38862'})\n",
      "frozenset({'38947', '32352', '40084'})\n",
      "frozenset({'13037', '10788', '10790'})\n",
      "frozenset({'40155', '41867', '40154', '41868'})\n",
      "frozenset({'1462', '1143', '2448'})\n",
      "frozenset({'26204', '38477', '35933', '39034'})\n",
      "frozenset({'7642', '10802', '3739'})\n",
      "frozenset({'11834', '12496', '14800'})\n",
      "frozenset({'28314', '28311', '27677'})\n",
      "frozenset({'39827', '16090', '14287'})\n",
      "frozenset({'49352', '49350', '49348'})\n",
      "frozenset({'41225', '28125', '41224'})\n",
      "frozenset({'34675', '51409', '48107'})\n",
      "frozenset({'15313', '10562', '10565'})\n",
      "frozenset({'17855', '17854', '14676'})\n",
      "frozenset({'4441', '8394', '6717'})\n",
      "frozenset({'24092', '31035', '32876'})\n",
      "frozenset({'4875', '4876', '4873'})\n",
      "frozenset({'1245', '1242', '1244'})\n",
      "frozenset({'10044', '4034', '7694'})\n",
      "frozenset({'16106', '2145', '26349', '12736', '26934', '2148', '4099', '22401', '1964', '12735'})\n",
      "frozenset({'26127', '47542', '34327'})\n",
      "frozenset({'28347', '39677', '35009'})\n",
      "frozenset({'25639', '24490', '37210'})\n",
      "frozenset({'25541', '22403', '26349'})\n",
      "frozenset({'1460', '1131', '1459'})\n",
      "frozenset({'1566', '1372', '929'})\n",
      "frozenset({'51879', '51877', '47300'})\n",
      "frozenset({'27580', '20690', '4934'})\n",
      "frozenset({'25781', '33893', '42816'})\n",
      "frozenset({'14156', '30458', '29761'})\n"
     ]
    }
   ],
   "source": [
    "# Get the overlapping communities\n",
    "mygenerator = get_percolated_cliques(G_u, 3)\n",
    "c = 0\n",
    "tt_list = []\n",
    "for i in mygenerator:\n",
    "    print(i)\n",
    "    c += len(i)\n",
    "    tt_list.append(list(i))"
   ]
  },
  {
   "cell_type": "code",
   "execution_count": 17,
   "metadata": {},
   "outputs": [
    {
     "name": "stdout",
     "output_type": "stream",
     "text": [
      "4871\n"
     ]
    }
   ],
   "source": [
    "print(len(G_u.nodes))"
   ]
  },
  {
   "cell_type": "code",
   "execution_count": 18,
   "metadata": {},
   "outputs": [
    {
     "name": "stdout",
     "output_type": "stream",
     "text": [
      "1006\n"
     ]
    }
   ],
   "source": [
    "print(c)"
   ]
  },
  {
   "cell_type": "markdown",
   "metadata": {},
   "source": [
    "#### Test of the Recommendation System"
   ]
  },
  {
   "cell_type": "code",
   "execution_count": 19,
   "metadata": {},
   "outputs": [
    {
     "data": {
      "application/vnd.jupyter.widget-view+json": {
       "model_id": "355f33a8e62e499f9cc41ac87160b3da",
       "version_major": 2,
       "version_minor": 0
      },
      "text/plain": [
       "A Jupyter Widget"
      ]
     },
     "metadata": {},
     "output_type": "display_data"
    },
    {
     "name": "stdout",
     "output_type": "stream",
     "text": [
      "\n"
     ]
    }
   ],
   "source": [
    "# Node for which we are looking for recommandation\n",
    "node_to_test = '1468'\n",
    "\n",
    "motif_1_dict = {}\n",
    "motif_total = {}\n",
    "\n",
    "for i in tqdm(motif_1_nodes):\n",
    "    # Count the number of motives the other nodes are involved in, along with the working node\n",
    "    if node_to_test in i:\n",
    "        motif_1_dict[i[0]] = motif_1_dict.get(i[0], 0) + 1\n",
    "        motif_1_dict[i[1]] = motif_1_dict.get(i[1], 0) + 1\n",
    "        motif_1_dict[i[2]] = motif_1_dict.get(i[2], 0) + 1\n",
    "        motif_total[i[0]] = motif_total.get(i[0], 0) + 1\n",
    "        motif_total[i[1]] = motif_total.get(i[1], 0) + 1\n",
    "        motif_total[i[2]] = motif_total.get(i[2], 0) + 1"
   ]
  },
  {
   "cell_type": "code",
   "execution_count": 20,
   "metadata": {},
   "outputs": [
    {
     "name": "stdout",
     "output_type": "stream",
     "text": [
      "{'337': 17, '1154': 23, '1468': 35, '1156': 1, '481': 11, '2452': 17, '42500': 1}\n"
     ]
    }
   ],
   "source": [
    "print(motif_1_dict)"
   ]
  },
  {
   "cell_type": "code",
   "execution_count": 21,
   "metadata": {},
   "outputs": [
    {
     "name": "stdout",
     "output_type": "stream",
     "text": [
      "{'1154': 8, '337': 5, '1468': 11, '481': 3, '2452': 6}\n"
     ]
    }
   ],
   "source": [
    "motif_3_dict = {}\n",
    "\n",
    "for i in motif_3_nodes:\n",
    "    # Same for motif 3\n",
    "    if node_to_test in i:\n",
    "        motif_3_dict[i[0]] = motif_3_dict.get(i[0], 0) + 1\n",
    "        motif_3_dict[i[1]] = motif_3_dict.get(i[1], 0) + 1\n",
    "        motif_3_dict[i[2]] = motif_3_dict.get(i[2], 0) + 1\n",
    "        motif_total[i[0]] = motif_total.get(i[0], 0) + 1\n",
    "        motif_total[i[1]] = motif_total.get(i[1], 0) + 1\n",
    "        motif_total[i[2]] = motif_total.get(i[2], 0) + 1\n",
    "        \n",
    "print(motif_3_dict)"
   ]
  },
  {
   "cell_type": "code",
   "execution_count": 22,
   "metadata": {},
   "outputs": [
    {
     "name": "stdout",
     "output_type": "stream",
     "text": [
      "{'230': 2, '337': 21, '1468': 63, '1154': 23, '481': 31, '2452': 13, '1156': 3, '609': 2, '18360': 2, '27679': 2, '42500': 5, '1206': 2, '2772': 2, '5085': 2, '5851': 2, '7839': 2, '8853': 2, '14583': 2, '24501': 2, '22784': 2, '25341': 2, '28033': 2}\n"
     ]
    }
   ],
   "source": [
    "motif_4_dict = {}\n",
    "\n",
    "for i in motif_4_nodes:\n",
    "    # Same for motif 4\n",
    "    if node_to_test in i:\n",
    "        motif_4_dict[i[0]] = motif_4_dict.get(i[0], 0) + 1\n",
    "        motif_4_dict[i[1]] = motif_4_dict.get(i[1], 0) + 1\n",
    "        motif_4_dict[i[2]] = motif_4_dict.get(i[2], 0) + 1\n",
    "        motif_total[i[0]] = motif_total.get(i[0], 0) + 1\n",
    "        motif_total[i[1]] = motif_total.get(i[1], 0) + 1\n",
    "        motif_total[i[2]] = motif_total.get(i[2], 0) + 1\n",
    "        \n",
    "print(motif_4_dict)"
   ]
  },
  {
   "cell_type": "code",
   "execution_count": 23,
   "metadata": {},
   "outputs": [
    {
     "name": "stdout",
     "output_type": "stream",
     "text": [
      "{}\n"
     ]
    }
   ],
   "source": [
    "motif_10_dict = {}\n",
    "\n",
    "for i in motif_10_nodes:\n",
    "    # Same for motif 10\n",
    "    if node_to_test in i:\n",
    "        motif_10_dict[i[0]] = motif_10_dict.get(i[0], 0) + 1\n",
    "        motif_10_dict[i[1]] = motif_10_dict.get(i[1], 0) + 1\n",
    "        motif_10_dict[i[2]] = motif_10_dict.get(i[2], 0) + 1\n",
    "        motif_total[i[0]] = motif_total.get(i[0], 0) + 1\n",
    "        motif_total[i[1]] = motif_total.get(i[1], 0) + 1\n",
    "        motif_total[i[2]] = motif_total.get(i[2], 0) + 1\n",
    "        \n",
    "print(motif_10_dict)"
   ]
  },
  {
   "cell_type": "code",
   "execution_count": 24,
   "metadata": {},
   "outputs": [
    {
     "name": "stdout",
     "output_type": "stream",
     "text": [
      "{'337': 43, '1154': 54, '1468': 109, '1156': 4, '481': 45, '2452': 36, '42500': 6, '230': 2, '609': 2, '18360': 2, '27679': 2, '1206': 2, '2772': 2, '5085': 2, '5851': 2, '7839': 2, '8853': 2, '14583': 2, '24501': 2, '22784': 2, '25341': 2, '28033': 2}\n"
     ]
    }
   ],
   "source": [
    "print(motif_total)\n",
    "# Get the number of motifs with the working node nodes are involved in"
   ]
  },
  {
   "cell_type": "code",
   "execution_count": 25,
   "metadata": {
    "scrolled": true
   },
   "outputs": [
    {
     "name": "stdout",
     "output_type": "stream",
     "text": [
      "1468 109\n",
      "1154 54\n",
      "481 45\n",
      "337 43\n",
      "2452 36\n",
      "42500 6\n",
      "1156 4\n",
      "230 2\n",
      "609 2\n",
      "18360 2\n",
      "27679 2\n",
      "1206 2\n",
      "2772 2\n",
      "5085 2\n",
      "5851 2\n",
      "7839 2\n",
      "8853 2\n",
      "14583 2\n",
      "24501 2\n",
      "22784 2\n",
      "25341 2\n",
      "28033 2\n"
     ]
    }
   ],
   "source": [
    "# Rank these nodes\n",
    "s = [(k, motif_total[k]) for k in sorted(motif_total, key=motif_total.get, reverse=True)]\n",
    "for k, v in s:\n",
    "    print(k, v)"
   ]
  },
  {
   "cell_type": "markdown",
   "metadata": {},
   "source": [
    "#### Building a Recommendation Function"
   ]
  },
  {
   "cell_type": "code",
   "execution_count": 26,
   "metadata": {},
   "outputs": [
    {
     "name": "stdout",
     "output_type": "stream",
     "text": [
      "Item: 1468    Recommendations: ['1154', '481', '337', '2452']\n",
      "Item: 2051    Recommendations: ['1797', '2050', '3145', '18589']\n",
      "Item: 6714    Recommendations: ['4194', '17138', '768', '181']\n",
      "Item: 8857    Recommendations: ['6960', '8854', '28589', '28590']\n",
      "Item: 8109    Recommendations: ['7439', '13596', '279', '97']\n",
      "Item: 10795    Recommendations: ['17767', '17769', '17768', '17770']\n",
      "Item: 17767    Recommendations: ['10795', '17769', '17768', '20967']\n",
      "Item: 15980    Recommendations: ['15981', '11897', '13812', '26335']\n",
      "Item: 15981    Recommendations: ['15980', '11897', '26335', '13812']\n",
      "Item: 22838    Recommendations: ['13017', '18336', '22839', '8925']\n"
     ]
    }
   ],
   "source": [
    "# Let's work with several nodes\n",
    "\n",
    "def recommendation(nodes_list, n_recommendation):\n",
    "    return_list = []\n",
    "    for node_to_test in nodes_list:\n",
    "\n",
    "        community = []\n",
    "\n",
    "        for i in tt_list:\n",
    "            if node_to_test in i:\n",
    "    #             print('ttlist', i)\n",
    "                community += i\n",
    "\n",
    "        motif_1_dict = {}\n",
    "        motif_total = {}\n",
    "\n",
    "        for i in motif_1_nodes:\n",
    "            if node_to_test in i:\n",
    "                motif_1_dict[i[0]] = motif_1_dict.get(i[0], 0) + 1\n",
    "                motif_1_dict[i[1]] = motif_1_dict.get(i[1], 0) + 1\n",
    "                motif_1_dict[i[2]] = motif_1_dict.get(i[2], 0) + 1\n",
    "                motif_total[i[0]] = motif_total.get(i[0], 0) + 1\n",
    "                motif_total[i[1]] = motif_total.get(i[1], 0) + 1\n",
    "                motif_total[i[2]] = motif_total.get(i[2], 0) + 1\n",
    "\n",
    "        motif_3_dict = {}\n",
    "\n",
    "        for i in motif_3_nodes:\n",
    "            if node_to_test in i:\n",
    "                motif_3_dict[i[0]] = motif_3_dict.get(i[0], 0) + 1\n",
    "                motif_3_dict[i[1]] = motif_3_dict.get(i[1], 0) + 1\n",
    "                motif_3_dict[i[2]] = motif_3_dict.get(i[2], 0) + 1\n",
    "                motif_total[i[0]] = motif_total.get(i[0], 0) + 1\n",
    "                motif_total[i[1]] = motif_total.get(i[1], 0) + 1\n",
    "                motif_total[i[2]] = motif_total.get(i[2], 0) + 1\n",
    "\n",
    "\n",
    "        motif_4_dict = {}\n",
    "\n",
    "        for i in motif_4_nodes:\n",
    "            if node_to_test in i:\n",
    "                motif_4_dict[i[0]] = motif_4_dict.get(i[0], 0) + 1\n",
    "                motif_4_dict[i[1]] = motif_4_dict.get(i[1], 0) + 1\n",
    "                motif_4_dict[i[2]] = motif_4_dict.get(i[2], 0) + 1\n",
    "                motif_total[i[0]] = motif_total.get(i[0], 0) + 1\n",
    "                motif_total[i[1]] = motif_total.get(i[1], 0) + 1\n",
    "                motif_total[i[2]] = motif_total.get(i[2], 0) + 1\n",
    "\n",
    "        motif_10_dict = {}\n",
    "\n",
    "        for i in motif_10_nodes:\n",
    "            if node_to_test in i:\n",
    "                motif_10_dict[i[0]] = motif_10_dict.get(i[0], 0) + 1\n",
    "                motif_10_dict[i[1]] = motif_10_dict.get(i[1], 0) + 1\n",
    "                motif_10_dict[i[2]] = motif_10_dict.get(i[2], 0) + 1\n",
    "                motif_total[i[0]] = motif_total.get(i[0], 0) + 1\n",
    "                motif_total[i[1]] = motif_total.get(i[1], 0) + 1\n",
    "                motif_total[i[2]] = motif_total.get(i[2], 0) + 1\n",
    "\n",
    "        # We add importance if the node is in the same overlapping community\n",
    "        for key in motif_total.keys():\n",
    "            if key in community:\n",
    "                motif_total[key] += 1000\n",
    "\n",
    "        s = [(k, motif_total[k]) for k in sorted(motif_total, key=motif_total.get, reverse=True)]\n",
    "        p = []\n",
    "        for k, v in s:\n",
    "            p += [k]\n",
    "        # Let's prink ranked recommandations\n",
    "        return_list.append((node_to_test, p[1:n_recommendation]))\n",
    "    return return_list\n",
    "        \n",
    "nodes_to_test = ['1468', '2051', '6714', '8857', '8109', '10795', '17767', '15980', '15981', '22838']\n",
    "\n",
    "p = recommendation(nodes_to_test, 5)\n",
    "\n",
    "for i in p:\n",
    "    print('Item:', i[0], '   Recommendations:', i[1])"
   ]
  },
  {
   "cell_type": "markdown",
   "metadata": {
    "collapsed": true
   },
   "source": [
    "## Recommendations using nearest neighbours in a weighted directed graph"
   ]
  },
  {
   "cell_type": "code",
   "execution_count": 27,
   "metadata": {},
   "outputs": [
    {
     "data": {
      "text/html": [
       "<div>\n",
       "<style>\n",
       "    .dataframe thead tr:only-child th {\n",
       "        text-align: right;\n",
       "    }\n",
       "\n",
       "    .dataframe thead th {\n",
       "        text-align: left;\n",
       "    }\n",
       "\n",
       "    .dataframe tbody tr th {\n",
       "        vertical-align: top;\n",
       "    }\n",
       "</style>\n",
       "<table border=\"1\" class=\"dataframe\">\n",
       "  <thead>\n",
       "    <tr style=\"text-align: right;\">\n",
       "      <th></th>\n",
       "      <th>Unnamed: 0</th>\n",
       "      <th>id</th>\n",
       "      <th>asin</th>\n",
       "      <th>discountinued</th>\n",
       "      <th>title</th>\n",
       "      <th>groupe</th>\n",
       "      <th>salesrank</th>\n",
       "      <th>num_similar</th>\n",
       "      <th>similar</th>\n",
       "      <th>num_categories</th>\n",
       "      <th>categories</th>\n",
       "      <th>num_reviews</th>\n",
       "      <th>downloaded_reviews</th>\n",
       "      <th>avg_rating</th>\n",
       "      <th>dates</th>\n",
       "      <th>customer_ids</th>\n",
       "      <th>ratings</th>\n",
       "      <th>votes</th>\n",
       "      <th>helpfuls</th>\n",
       "      <th>helpfulness_ratio</th>\n",
       "    </tr>\n",
       "  </thead>\n",
       "  <tbody>\n",
       "    <tr>\n",
       "      <th>0</th>\n",
       "      <td>4</td>\n",
       "      <td>22317</td>\n",
       "      <td>037325931X</td>\n",
       "      <td>False</td>\n",
       "      <td>Just Say Yes! (Harlequin Temptation, No 831)</td>\n",
       "      <td>Book</td>\n",
       "      <td>1190228.0</td>\n",
       "      <td>0.0</td>\n",
       "      <td>[]</td>\n",
       "      <td>3.0</td>\n",
       "      <td>['   |Books[283155]|Subjects[1000]|Romance[23]...</td>\n",
       "      <td>2.0</td>\n",
       "      <td>2.0</td>\n",
       "      <td>5.0</td>\n",
       "      <td>2001-4-24</td>\n",
       "      <td>A1TCDS9S2NIVPB</td>\n",
       "      <td>5.0</td>\n",
       "      <td>6.0</td>\n",
       "      <td>6.0</td>\n",
       "      <td>1.000000</td>\n",
       "    </tr>\n",
       "    <tr>\n",
       "      <th>1</th>\n",
       "      <td>5</td>\n",
       "      <td>22317</td>\n",
       "      <td>037325931X</td>\n",
       "      <td>False</td>\n",
       "      <td>Just Say Yes! (Harlequin Temptation, No 831)</td>\n",
       "      <td>Book</td>\n",
       "      <td>1190228.0</td>\n",
       "      <td>0.0</td>\n",
       "      <td>[]</td>\n",
       "      <td>3.0</td>\n",
       "      <td>['   |Books[283155]|Subjects[1000]|Romance[23]...</td>\n",
       "      <td>2.0</td>\n",
       "      <td>2.0</td>\n",
       "      <td>5.0</td>\n",
       "      <td>2001-6-14</td>\n",
       "      <td>AY2KLXN42UYV4</td>\n",
       "      <td>5.0</td>\n",
       "      <td>1.0</td>\n",
       "      <td>0.0</td>\n",
       "      <td>0.000000</td>\n",
       "    </tr>\n",
       "    <tr>\n",
       "      <th>2</th>\n",
       "      <td>178</td>\n",
       "      <td>22325</td>\n",
       "      <td>1578590582</td>\n",
       "      <td>False</td>\n",
       "      <td>The Handy Physics Answer Book (Handy Answer Bo...</td>\n",
       "      <td>Book</td>\n",
       "      <td>340384.0</td>\n",
       "      <td>5.0</td>\n",
       "      <td>['1578591406', '1578590175', '0787610348', '15...</td>\n",
       "      <td>2.0</td>\n",
       "      <td>['   |Books[283155]|Subjects[1000]|Science[75]...</td>\n",
       "      <td>9.0</td>\n",
       "      <td>9.0</td>\n",
       "      <td>4.0</td>\n",
       "      <td>1998-12-3</td>\n",
       "      <td>A1I9PPL8QMBK4I</td>\n",
       "      <td>5.0</td>\n",
       "      <td>2.0</td>\n",
       "      <td>1.0</td>\n",
       "      <td>0.500000</td>\n",
       "    </tr>\n",
       "    <tr>\n",
       "      <th>3</th>\n",
       "      <td>179</td>\n",
       "      <td>22325</td>\n",
       "      <td>1578590582</td>\n",
       "      <td>False</td>\n",
       "      <td>The Handy Physics Answer Book (Handy Answer Bo...</td>\n",
       "      <td>Book</td>\n",
       "      <td>340384.0</td>\n",
       "      <td>5.0</td>\n",
       "      <td>['1578591406', '1578590175', '0787610348', '15...</td>\n",
       "      <td>2.0</td>\n",
       "      <td>['   |Books[283155]|Subjects[1000]|Science[75]...</td>\n",
       "      <td>9.0</td>\n",
       "      <td>9.0</td>\n",
       "      <td>4.0</td>\n",
       "      <td>1998-12-23</td>\n",
       "      <td>ATVPDKIKX0DER</td>\n",
       "      <td>5.0</td>\n",
       "      <td>4.0</td>\n",
       "      <td>4.0</td>\n",
       "      <td>1.000000</td>\n",
       "    </tr>\n",
       "    <tr>\n",
       "      <th>4</th>\n",
       "      <td>180</td>\n",
       "      <td>22325</td>\n",
       "      <td>1578590582</td>\n",
       "      <td>False</td>\n",
       "      <td>The Handy Physics Answer Book (Handy Answer Bo...</td>\n",
       "      <td>Book</td>\n",
       "      <td>340384.0</td>\n",
       "      <td>5.0</td>\n",
       "      <td>['1578591406', '1578590175', '0787610348', '15...</td>\n",
       "      <td>2.0</td>\n",
       "      <td>['   |Books[283155]|Subjects[1000]|Science[75]...</td>\n",
       "      <td>9.0</td>\n",
       "      <td>9.0</td>\n",
       "      <td>4.0</td>\n",
       "      <td>1999-2-2</td>\n",
       "      <td>AE2JVMHQPDSHE</td>\n",
       "      <td>5.0</td>\n",
       "      <td>6.0</td>\n",
       "      <td>4.0</td>\n",
       "      <td>0.666667</td>\n",
       "    </tr>\n",
       "  </tbody>\n",
       "</table>\n",
       "</div>"
      ],
      "text/plain": [
       "   Unnamed: 0     id        asin  discountinued  \\\n",
       "0           4  22317  037325931X          False   \n",
       "1           5  22317  037325931X          False   \n",
       "2         178  22325  1578590582          False   \n",
       "3         179  22325  1578590582          False   \n",
       "4         180  22325  1578590582          False   \n",
       "\n",
       "                                               title groupe  salesrank  \\\n",
       "0       Just Say Yes! (Harlequin Temptation, No 831)   Book  1190228.0   \n",
       "1       Just Say Yes! (Harlequin Temptation, No 831)   Book  1190228.0   \n",
       "2  The Handy Physics Answer Book (Handy Answer Bo...   Book   340384.0   \n",
       "3  The Handy Physics Answer Book (Handy Answer Bo...   Book   340384.0   \n",
       "4  The Handy Physics Answer Book (Handy Answer Bo...   Book   340384.0   \n",
       "\n",
       "   num_similar                                            similar  \\\n",
       "0          0.0                                                 []   \n",
       "1          0.0                                                 []   \n",
       "2          5.0  ['1578591406', '1578590175', '0787610348', '15...   \n",
       "3          5.0  ['1578591406', '1578590175', '0787610348', '15...   \n",
       "4          5.0  ['1578591406', '1578590175', '0787610348', '15...   \n",
       "\n",
       "   num_categories                                         categories  \\\n",
       "0             3.0  ['   |Books[283155]|Subjects[1000]|Romance[23]...   \n",
       "1             3.0  ['   |Books[283155]|Subjects[1000]|Romance[23]...   \n",
       "2             2.0  ['   |Books[283155]|Subjects[1000]|Science[75]...   \n",
       "3             2.0  ['   |Books[283155]|Subjects[1000]|Science[75]...   \n",
       "4             2.0  ['   |Books[283155]|Subjects[1000]|Science[75]...   \n",
       "\n",
       "   num_reviews  downloaded_reviews  avg_rating       dates     customer_ids  \\\n",
       "0          2.0                 2.0         5.0   2001-4-24  A1TCDS9S2NIVPB    \n",
       "1          2.0                 2.0         5.0   2001-6-14   AY2KLXN42UYV4    \n",
       "2          9.0                 9.0         4.0   1998-12-3  A1I9PPL8QMBK4I    \n",
       "3          9.0                 9.0         4.0  1998-12-23   ATVPDKIKX0DER    \n",
       "4          9.0                 9.0         4.0    1999-2-2   AE2JVMHQPDSHE    \n",
       "\n",
       "   ratings  votes  helpfuls  helpfulness_ratio  \n",
       "0      5.0    6.0       6.0           1.000000  \n",
       "1      5.0    1.0       0.0           0.000000  \n",
       "2      5.0    2.0       1.0           0.500000  \n",
       "3      5.0    4.0       4.0           1.000000  \n",
       "4      5.0    6.0       4.0           0.666667  "
      ]
     },
     "execution_count": 27,
     "metadata": {},
     "output_type": "execute_result"
    }
   ],
   "source": [
    "df = pd.read_csv('amazon-meta4.csv', header=0)\n",
    "df.drop(labels='Unnamed: 0', axis=1)\n",
    "df['helpfulness_ratio'] = df['helpfuls']/df['votes']\n",
    "df.head()"
   ]
  },
  {
   "cell_type": "markdown",
   "metadata": {},
   "source": [
    "### Reading the graph"
   ]
  },
  {
   "cell_type": "code",
   "execution_count": 28,
   "metadata": {
    "collapsed": true
   },
   "outputs": [],
   "source": [
    "def build_graph(file, df):\n",
    "    \"\"\"Building the graph with only the parsed nodes\"\"\"\n",
    "    important_nodes = list(df['id'].unique())\n",
    "    important_nodes_dict = {}\n",
    "\n",
    "    for node in important_nodes:\n",
    "        important_nodes_dict[str(node)] = 1\n",
    "\n",
    "\n",
    "    with open(file, 'r') as f:\n",
    "        data = f.read()\n",
    "    data = data.split('\\n')\n",
    "\n",
    "    G = nx.DiGraph()\n",
    "\n",
    "    for row in range(4, len(data)-1):\n",
    "        dataaa = data[row].split('\\t')\n",
    "        node_1 = dataaa[0]\n",
    "        node_2 = dataaa[1]\n",
    "\n",
    "        nodes_to_add = 0\n",
    "        nodes_to_add += important_nodes_dict.get(node_1, 0)\n",
    "        nodes_to_add += important_nodes_dict.get(node_2, 0)\n",
    "\n",
    "        if nodes_to_add == 2:\n",
    "            G.add_edge(node_1, node_2)\n",
    "            \n",
    "    return G"
   ]
  },
  {
   "cell_type": "code",
   "execution_count": 29,
   "metadata": {
    "collapsed": true
   },
   "outputs": [],
   "source": [
    "G = build_graph(\"Amazon0302.txt\", df)"
   ]
  },
  {
   "cell_type": "code",
   "execution_count": 30,
   "metadata": {
    "collapsed": true
   },
   "outputs": [],
   "source": [
    "def add_weight(df, graph, model='additive', alpha=0.5):\n",
    "    \"\"\"Add weights to the graph\"\"\"\n",
    "    edge_list = list(G.edges())\n",
    "    \n",
    "    if model == 'multiplicative':\n",
    "        dict_nodes_weight =  dict(zip(df['id'].unique(), np.array((df.groupby('id').mean()['avg_rating'])/5)*np.array(df.groupby('id').mean()['helpfulness_ratio'])))                               \n",
    "    elif model == 'additive':\n",
    "        dict_nodes_weight =  dict(zip(df['id'].unique(), alpha*np.array((df.groupby('id').mean()['avg_rating'])/5) + (1-alpha)*np.array(df.groupby('id').mean()['helpfulness_ratio'])))\n",
    "    else:\n",
    "        print(\"Wrong model: can be only 'additive' or 'multiplicative'\")\n",
    "        \n",
    "    for edge in edge_list:\n",
    "        G.add_weighted_edges_from([(edge[0], edge[1], (1-dict_nodes_weight[int(edge[0])])*(1-dict_nodes_weight[int(edge[1])]))])\n",
    "    \n",
    "    return G"
   ]
  },
  {
   "cell_type": "code",
   "execution_count": 31,
   "metadata": {
    "collapsed": true,
    "scrolled": false
   },
   "outputs": [],
   "source": [
    "G = add_weight(df, G, 'multiplicative')"
   ]
  },
  {
   "cell_type": "code",
   "execution_count": 32,
   "metadata": {
    "collapsed": true
   },
   "outputs": [],
   "source": [
    "G = add_weight(df, G, 'additive', alpha = 0.6)"
   ]
  },
  {
   "cell_type": "markdown",
   "metadata": {},
   "source": [
    "### Searching for the nearest neighbors and providing recommendations"
   ]
  },
  {
   "cell_type": "code",
   "execution_count": 33,
   "metadata": {
    "collapsed": true
   },
   "outputs": [],
   "source": [
    "def search_for_k_reco(sample_id, k, G, model='only_with_it'):\n",
    "    \"\"\"Look for k nearest neighbors of node sample id and provide recommendations\"\"\"\n",
    "    if model == 'only_with_it':\n",
    "        neigh = list(G.neighbors(str(sample_id)))\n",
    "    elif model == 'all':\n",
    "        G = G.to_undirected()\n",
    "        neigh = list(G.neighbors(str(sample_id)))\n",
    "    else:\n",
    "        print(\"Wrong model: can be only 'only_with_it' or 'all'\")\n",
    "\n",
    "        \n",
    "    if len(neigh) >= k:\n",
    "        reco = []\n",
    "        for i in range(len(neigh)):\n",
    "            reco.append((neigh[i], round(G.get_edge_data(str(sample_id), neigh[i])['weight'], 6)))\n",
    "            reco = sorted(reco, key=lambda element:-element[1])\n",
    "            reco = reco[0:k]\n",
    "    else:\n",
    "        reco = []\n",
    "        for i in range(len(neigh)):\n",
    "            reco.append((neigh[i], round(G.get_edge_data(str(sample_id), neigh[i])['weight'], 6)))\n",
    "            reco = sorted(reco, key=lambda element:-element[1])  \n",
    "        print(\"We are only able to provide \", len(reco), \" recommendations for product \", sample_id, \" : \")\n",
    "    return reco"
   ]
  },
  {
   "cell_type": "code",
   "execution_count": 34,
   "metadata": {
    "scrolled": false
   },
   "outputs": [
    {
     "name": "stdout",
     "output_type": "stream",
     "text": [
      "We are only able to provide  4  recommendations for product  1468  : \n",
      "1468 [('337', 0.102522), ('1154', 0.099748), ('481', 0.073234), ('2452', 0.008597)]\n",
      "2051 [('18586', 0.137511), ('36044', 0.071332), ('28411', 0.06539), ('3146', 0.053103), ('2050', 0.040044), ('3145', 0.009646)]\n",
      "6714 [('768', 0.054756), ('181', 0.038053), ('17138', 0.029924), ('4194', 0.018971), ('11333', 0.015939), ('11334', 0.003952)]\n",
      "We are only able to provide  4  recommendations for product  8857  : \n",
      "8857 [('8854', 0.113462), ('28590', 0.107432), ('6960', 0.003106), ('28589', 0.0)]\n"
     ]
    }
   ],
   "source": [
    "### Print recommandations for these four products using all neigbors\n",
    "for node in [1468, 2051, 6714, 8857]:\n",
    "    print(node, search_for_k_reco(node, 6, G, 'all'))"
   ]
  },
  {
   "cell_type": "code",
   "execution_count": 35,
   "metadata": {},
   "outputs": [
    {
     "name": "stdout",
     "output_type": "stream",
     "text": [
      "We are only able to provide  4  recommendations for product  1468  : \n",
      "1468 [('337', 0.102522), ('1154', 0.099748), ('481', 0.073234), ('2452', 0.008597)]\n",
      "We are only able to provide  4  recommendations for product  2051  : \n",
      "2051 [('3146', 0.053103), ('2050', 0.040044), ('3145', 0.009646), ('1797', 0.002833)]\n",
      "We are only able to provide  4  recommendations for product  6714  : \n",
      "6714 [('768', 0.054756), ('181', 0.038053), ('11333', 0.015939), ('11334', 0.003952)]\n",
      "We are only able to provide  4  recommendations for product  8857  : \n",
      "8857 [('8854', 0.113462), ('28590', 0.107432), ('6960', 0.003106), ('28589', 0.0)]\n"
     ]
    }
   ],
   "source": [
    "### Print recommandations for these fourproducts using only out neigbors\n",
    "for node in [1468, 2051, 6714, 8857]:\n",
    "    print(node, search_for_k_reco(node, 6, G, 'only_with_it'))"
   ]
  },
  {
   "cell_type": "markdown",
   "metadata": {},
   "source": [
    "## Recommendation using SVD"
   ]
  },
  {
   "cell_type": "code",
   "execution_count": 36,
   "metadata": {
    "collapsed": true
   },
   "outputs": [],
   "source": [
    "df = pd.read_csv('amazon-meta4.csv')"
   ]
  },
  {
   "cell_type": "code",
   "execution_count": 37,
   "metadata": {
    "collapsed": true
   },
   "outputs": [],
   "source": [
    "df = df.drop(df.columns[0], axis=1)"
   ]
  },
  {
   "cell_type": "code",
   "execution_count": 38,
   "metadata": {
    "collapsed": true
   },
   "outputs": [],
   "source": [
    "df.columns = ['id','asin','discountinued','title','groupe','salesrank','num_similar',\\\n",
    "                               'similar','num_categories','categories','num_reviews','downloaded_reviews',\\\n",
    "                               'avg_rating','dates','customer_id','rating','vote','helpful']"
   ]
  },
  {
   "cell_type": "markdown",
   "metadata": {},
   "source": [
    "## Creating the rating matrix"
   ]
  },
  {
   "cell_type": "code",
   "execution_count": 39,
   "metadata": {
    "collapsed": true
   },
   "outputs": [],
   "source": [
    "ratings = df[['id','customer_id','rating']]\n",
    "ratings.columns = ['item_id', 'customer_id', 'rating']"
   ]
  },
  {
   "cell_type": "code",
   "execution_count": 40,
   "metadata": {
    "collapsed": true
   },
   "outputs": [],
   "source": [
    "ratings = ratings.drop_duplicates(['item_id','customer_id'])"
   ]
  },
  {
   "cell_type": "code",
   "execution_count": 41,
   "metadata": {
    "collapsed": true
   },
   "outputs": [],
   "source": [
    "ratings_sample = ratings.loc[:10000]"
   ]
  },
  {
   "cell_type": "code",
   "execution_count": 42,
   "metadata": {
    "collapsed": true
   },
   "outputs": [],
   "source": [
    "y = ratings_sample.pivot(index = 'customer_id', columns ='item_id', values = 'rating').fillna(0)"
   ]
  },
  {
   "cell_type": "markdown",
   "metadata": {},
   "source": [
    "## Performing SVD"
   ]
  },
  {
   "cell_type": "code",
   "execution_count": 43,
   "metadata": {
    "collapsed": true
   },
   "outputs": [],
   "source": [
    "R = y.values\n",
    "user_ratings_mean = np.mean(R, axis = 1)\n",
    "R_demeaned = R - user_ratings_mean.reshape(-1, 1)"
   ]
  },
  {
   "cell_type": "code",
   "execution_count": 44,
   "metadata": {
    "collapsed": true
   },
   "outputs": [],
   "source": [
    "U, sigma, Vt = svds(R_demeaned, k = 50)"
   ]
  },
  {
   "cell_type": "code",
   "execution_count": 45,
   "metadata": {
    "collapsed": true
   },
   "outputs": [],
   "source": [
    "sigma = np.diag(sigma)"
   ]
  },
  {
   "cell_type": "code",
   "execution_count": 46,
   "metadata": {
    "collapsed": true
   },
   "outputs": [],
   "source": [
    "y_pred = U@sigma@Vt + user_ratings_mean.reshape(-1, 1)"
   ]
  },
  {
   "cell_type": "markdown",
   "metadata": {},
   "source": [
    "## Evaluating the SVD"
   ]
  },
  {
   "cell_type": "code",
   "execution_count": 47,
   "metadata": {},
   "outputs": [
    {
     "name": "stdout",
     "output_type": "stream",
     "text": [
      "0.08102244845103929\n"
     ]
    }
   ],
   "source": [
    "from sklearn.metrics import mean_squared_error\n",
    "import math\n",
    "rms = math.sqrt(mean_squared_error(y_pred, y))\n",
    "print(rms)"
   ]
  },
  {
   "cell_type": "markdown",
   "metadata": {},
   "source": [
    "## Definition of the recommender based on SVD"
   ]
  },
  {
   "cell_type": "code",
   "execution_count": 48,
   "metadata": {
    "collapsed": true
   },
   "outputs": [],
   "source": [
    "def find_similar(n_similar,item_id, similarity_matrix,rating_matrix):\n",
    "    idx = list(rating_matrix.columns).index(item_id)\n",
    "    distances = np.array([np.linalg.norm(similarity_matrix[:,i]-similarity_matrix[:,idx])if i !=idx else np.inf\\\n",
    "               for i in range(similarity_matrix.shape[1]) ])\n",
    "    \n",
    "    return [rating_matrix.columns[i] for i in np.argsort(distances)[:n_similar]]"
   ]
  },
  {
   "cell_type": "markdown",
   "metadata": {},
   "source": [
    "## Definition of the TF-IDF recommender"
   ]
  },
  {
   "cell_type": "code",
   "execution_count": 49,
   "metadata": {
    "collapsed": true
   },
   "outputs": [],
   "source": [
    "from sklearn.feature_extraction.text import TfidfVectorizer\n",
    "\n",
    "def similarity_score(v1, v2):\n",
    "    cos_sim = np.dot(v1, v2.T) / (np.linalg.norm(v1) * np.linalg.norm(v2))\n",
    "    return cos_sim[0,0]"
   ]
  },
  {
   "cell_type": "code",
   "execution_count": 50,
   "metadata": {},
   "outputs": [
    {
     "name": "stderr",
     "output_type": "stream",
     "text": [
      "C:\\Users\\Vincent\\Anaconda3\\lib\\site-packages\\sklearn\\feature_extraction\\text.py:1089: FutureWarning: Conversion of the second argument of issubdtype from `float` to `np.floating` is deprecated. In future, it will be treated as `np.float64 == np.dtype(float).type`.\n",
      "  if hasattr(X, 'dtype') and np.issubdtype(X.dtype, np.float):\n"
     ]
    }
   ],
   "source": [
    "# Preparing the TFIDF vectorizer\n",
    "vectorizer_cat = TfidfVectorizer(stop_words=\"english\")\n",
    "vectorizer_title = TfidfVectorizer(stop_words=\"english\")\n",
    "sample_tf = df.copy()\n",
    "sample_tf = sample_tf.drop_duplicates(subset='title')\n",
    "title_TFIDF = vectorizer_title.fit_transform(sample_tf['title'])"
   ]
  },
  {
   "cell_type": "code",
   "execution_count": 51,
   "metadata": {
    "collapsed": true
   },
   "outputs": [],
   "source": [
    "# Finding all categories\n",
    "cats = []\n",
    "for categories in sample_tf['categories'].values:\n",
    "    cats.append(categories)\n",
    "cats = np.array(cats)"
   ]
  },
  {
   "cell_type": "code",
   "execution_count": 52,
   "metadata": {
    "collapsed": true
   },
   "outputs": [],
   "source": [
    "def tfidf_recommender(item_id, titles,cats):\n",
    "    title = sample_tf[sample_tf['id']==item_id].iloc[0]['title']\n",
    "    print(title)\n",
    "    categ = sample_tf[sample_tf['id']==item_id].iloc[0]['categories']\n",
    "    title_tf = title_TFIDF[np.where(titles==title)[0][0]].todense()\n",
    "    scores = np.nan_to_num(np.array([similarity_score(title_tf,title_TFIDF[i].todense())\\\n",
    "                                     + 0.5 *int(cats[i] == categ)\\\n",
    "                                     if title != titles[i] else -np.inf\\\n",
    "                       for i in range(len(titles))]))\n",
    "    return titles[np.argsort(scores)[-4:] ], cats[np.argsort(scores)[-5:]] == categ"
   ]
  },
  {
   "cell_type": "code",
   "execution_count": 53,
   "metadata": {
    "collapsed": true
   },
   "outputs": [],
   "source": [
    "# items = [1468 ,2051 ,6714 ,8857]\n",
    "items = [22317, 22325, 22330, 22334]\n",
    "titles = sample_tf['title'].unique()"
   ]
  },
  {
   "cell_type": "markdown",
   "metadata": {},
   "source": [
    "## Recommending articles"
   ]
  },
  {
   "cell_type": "code",
   "execution_count": 54,
   "metadata": {},
   "outputs": [
    {
     "name": "stdout",
     "output_type": "stream",
     "text": [
      "22317 [24409, 23357, 22425, 23394]\n",
      "22325 [22974, 23074, 24254, 24141]\n",
      "22330 [23846, 23785, 23412, 22466]\n",
      "22334 [23345, 22852, 22505, 24406]\n"
     ]
    }
   ],
   "source": [
    "for item in items:\n",
    "    print(item, find_similar(4,item,Vt,y))"
   ]
  },
  {
   "cell_type": "code",
   "execution_count": 55,
   "metadata": {},
   "outputs": [
    {
     "name": "stdout",
     "output_type": "stream",
     "text": [
      "Just Say Yes! (Harlequin Temptation, No 831)\n"
     ]
    },
    {
     "name": "stderr",
     "output_type": "stream",
     "text": [
      "C:\\Users\\Vincent\\Anaconda3\\lib\\site-packages\\ipykernel_launcher.py:4: RuntimeWarning: invalid value encountered in true_divide\n",
      "  after removing the cwd from sys.path.\n"
     ]
    },
    {
     "name": "stdout",
     "output_type": "stream",
     "text": [
      "(array(['Mighty Quinns: Conor (The Mighty Quinns) (Harlequin Temptation, No. 847)',\n",
      "       'Tempted In Texas (Single In The City) (Harlequin Temptation, No. 864)',\n",
      "       'Undercover Lovers  (Heat) (Harlequin Temptation, No. 893)',\n",
      "       'Nights Before Christmas (Heat) (Harlequin Temptation, No. 853)'],\n",
      "      dtype=object), array([False,  True,  True,  True,  True]))\n",
      "The Handy Physics Answer Book (Handy Answer Books)\n",
      "(array(['Field Theory : A Modern Primer (Frontiers in Physics Series, Vol 74)',\n",
      "       'The Flying Circus of Physics With Answers',\n",
      "       'Feynman Lectures On Physics (Volume 3)',\n",
      "       'Physics: The Nature of Things'], dtype=object), array([ True,  True,  True,  True,  True]))\n",
      "Ready, Set, Read!: A Start-To-Finish Reading Program Any Parent Can Use\n",
      "(array(['Complete Library Skills Activities Program: Ready-To-Use Lessons for Grades K-6',\n",
      "       'Ready for Reading (First Learning)',\n",
      "       'What a Day for Flying! (Get Ready...Get Set...Read!)',\n",
      "       \"Kwanzaa and Me: A Teacher's Story\"], dtype=object), array([False, False, False, False,  True]))\n",
      "Liberalism Ancient and Modern\n",
      "(array(['World Hypotheses a Study in Evidence',\n",
      "       \"Ayn Rand's Theory of Knowledge\",\n",
      "       'The Moral Problem (Philosophical Theory)',\n",
      "       'Classics of Western Philosophy'], dtype=object), array([ True,  True,  True,  True,  True]))\n"
     ]
    }
   ],
   "source": [
    "for item in items :\n",
    "    print(tfidf_recommender(item, titles,cats))"
   ]
  },
  {
   "cell_type": "markdown",
   "metadata": {},
   "source": [
    "## Looking at a particular example"
   ]
  },
  {
   "cell_type": "code",
   "execution_count": 56,
   "metadata": {},
   "outputs": [
    {
     "name": "stdout",
     "output_type": "stream",
     "text": [
      "Just Say Yes! (Harlequin Temptation, No 831)\n"
     ]
    },
    {
     "name": "stderr",
     "output_type": "stream",
     "text": [
      "C:\\Users\\Vincent\\Anaconda3\\lib\\site-packages\\ipykernel_launcher.py:4: RuntimeWarning: invalid value encountered in true_divide\n",
      "  after removing the cwd from sys.path.\n"
     ]
    },
    {
     "data": {
      "text/plain": [
       "(array(['Mighty Quinns: Conor (The Mighty Quinns) (Harlequin Temptation, No. 847)',\n",
       "        'Tempted In Texas (Single In The City) (Harlequin Temptation, No. 864)',\n",
       "        'Undercover Lovers  (Heat) (Harlequin Temptation, No. 893)',\n",
       "        'Nights Before Christmas (Heat) (Harlequin Temptation, No. 853)'],\n",
       "       dtype=object), array([False,  True,  True,  True,  True]))"
      ]
     },
     "execution_count": 56,
     "metadata": {},
     "output_type": "execute_result"
    }
   ],
   "source": [
    "recommendation = tfidf_recommender(22317,titles,cats)\n",
    "recommendation"
   ]
  }
 ],
 "metadata": {
  "kernelspec": {
   "display_name": "Python 3",
   "language": "python",
   "name": "python3"
  },
  "language_info": {
   "codemirror_mode": {
    "name": "ipython",
    "version": 3
   },
   "file_extension": ".py",
   "mimetype": "text/x-python",
   "name": "python",
   "nbconvert_exporter": "python",
   "pygments_lexer": "ipython3",
   "version": "3.6.2"
  }
 },
 "nbformat": 4,
 "nbformat_minor": 2
}
